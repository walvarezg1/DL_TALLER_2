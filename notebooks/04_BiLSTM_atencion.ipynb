{
 "cells": [
  {
   "cell_type": "code",
   "execution_count": 1,
   "id": "df93c9f1",
   "metadata": {},
   "outputs": [
    {
     "name": "stdout",
     "output_type": "stream",
     "text": [
      "WARNING:tensorflow:From c:\\Users\\WilmarAl\\AppData\\Local\\Programs\\Python\\Python310\\lib\\site-packages\\keras\\src\\losses.py:2976: The name tf.losses.sparse_softmax_cross_entropy is deprecated. Please use tf.compat.v1.losses.sparse_softmax_cross_entropy instead.\n",
      "\n"
     ]
    }
   ],
   "source": [
    "from tensorflow.keras.preprocessing.text import Tokenizer\n",
    "from tensorflow.keras.preprocessing.sequence import pad_sequences"
   ]
  },
  {
   "cell_type": "code",
   "execution_count": 2,
   "id": "628ea8e2",
   "metadata": {},
   "outputs": [],
   "source": [
    "import pandas as pd\n",
    "import tensorflow as tf\n",
    "\n",
    "url = \"https://raw.githubusercontent.com/dD2405/Twitter_Sentiment_Analysis/master/train.csv\"\n",
    "csv_path = tf.keras.utils.get_file(\"twitter_sentiment.csv\", url)\n",
    "df = pd.read_csv(csv_path)\n",
    "\n",
    "df = df[[\"tweet\", \"label\"]]"
   ]
  },
  {
   "cell_type": "code",
   "execution_count": 3,
   "id": "e7936ad2",
   "metadata": {},
   "outputs": [
    {
     "name": "stdout",
     "output_type": "stream",
     "text": [
      "Texto original:  @user when a father is dysfunctional and is so selfish he drags his kids into his dysfunction.   #run\n",
      "Secuencia: [2, 35, 5, 253, 12, 1, 8, 12, 21, 2754, 98, 6656, 96, 256, 257, 96, 8137, 481]\n",
      "Secuencia padded: [   2   35    5  253   12    1    8   12   21 2754   98 6656   96  256\n",
      "  257   96 8137  481    0    0    0    0    0    0    0    0    0    0\n",
      "    0    0    0    0    0    0    0    0    0    0    0    0    0    0\n",
      "    0    0    0    0    0    0    0    0    0    0    0    0    0    0\n",
      "    0    0    0    0    0    0    0    0    0    0    0    0    0    0\n",
      "    0    0    0    0    0    0    0    0    0    0    0    0    0    0\n",
      "    0    0    0    0    0    0    0    0    0    0    0    0    0    0\n",
      "    0    0]\n"
     ]
    }
   ],
   "source": [
    "# Configuración\n",
    "vocab_size = 10000\n",
    "max_length = 100\n",
    "oov_token = \"<OOV>\"\n",
    "\n",
    "# Tokenizador\n",
    "tokenizer = Tokenizer(num_words=vocab_size, oov_token=oov_token)\n",
    "tokenizer.fit_on_texts(df[\"tweet\"])\n",
    "\n",
    "# Transformar textos a secuencias\n",
    "sequences = tokenizer.texts_to_sequences(df[\"tweet\"])\n",
    "padded = pad_sequences(sequences, maxlen=max_length, padding=\"post\", truncating=\"post\")\n",
    "\n",
    "# Ejemplo\n",
    "print(\"Texto original:\", df[\"tweet\"].iloc[0])\n",
    "print(\"Secuencia:\", sequences[0])\n",
    "print(\"Secuencia padded:\", padded[0])"
   ]
  },
  {
   "cell_type": "code",
   "execution_count": 4,
   "id": "00176af4",
   "metadata": {},
   "outputs": [],
   "source": [
    "from sklearn.model_selection import train_test_split"
   ]
  },
  {
   "cell_type": "code",
   "execution_count": 5,
   "id": "a0bef3e0",
   "metadata": {},
   "outputs": [
    {
     "name": "stdout",
     "output_type": "stream",
     "text": [
      "Train: (25569, 100) (25569,)\n",
      "Test: (6393, 100) (6393,)\n"
     ]
    }
   ],
   "source": [
    "X = padded\n",
    "y = df[\"label\"]\n",
    "\n",
    "X_train, X_test, y_train, y_test = train_test_split(X, y, test_size=0.2, random_state=42)\n",
    "\n",
    "print(\"Train:\", X_train.shape, y_train.shape)\n",
    "print(\"Test:\", X_test.shape, y_test.shape)"
   ]
  },
  {
   "cell_type": "code",
   "execution_count": 9,
   "id": "9f3e4b62",
   "metadata": {},
   "outputs": [],
   "source": [
    "from tensorflow.keras.layers import Embedding, Input, Bidirectional, LSTM, Dense, Layer\n",
    "from tensorflow.keras.models import Model"
   ]
  },
  {
   "cell_type": "code",
   "execution_count": 10,
   "id": "dcbaa1f4",
   "metadata": {},
   "outputs": [
    {
     "name": "stdout",
     "output_type": "stream",
     "text": [
      "WARNING:tensorflow:From c:\\Users\\WilmarAl\\AppData\\Local\\Programs\\Python\\Python310\\lib\\site-packages\\keras\\src\\optimizers\\__init__.py:309: The name tf.train.Optimizer is deprecated. Please use tf.compat.v1.train.Optimizer instead.\n",
      "\n",
      "Model: \"model\"\n",
      "_________________________________________________________________\n",
      " Layer (type)                Output Shape              Param #   \n",
      "=================================================================\n",
      " input_3 (InputLayer)        [(None, 100)]             0         \n",
      "                                                                 \n",
      " embedding (Embedding)       (None, 100, 64)           640000    \n",
      "                                                                 \n",
      " bidirectional (Bidirection  (None, 100, 128)          66048     \n",
      " al)                                                             \n",
      "                                                                 \n",
      " attention (Attention)       (None, 128)               0         \n",
      "                                                                 \n",
      " dense (Dense)               (None, 1)                 129       \n",
      "                                                                 \n",
      "=================================================================\n",
      "Total params: 706177 (2.69 MB)\n",
      "Trainable params: 706177 (2.69 MB)\n",
      "Non-trainable params: 0 (0.00 Byte)\n",
      "_________________________________________________________________\n",
      "Epoch 1/5\n",
      "WARNING:tensorflow:From c:\\Users\\WilmarAl\\AppData\\Local\\Programs\\Python\\Python310\\lib\\site-packages\\keras\\src\\utils\\tf_utils.py:492: The name tf.ragged.RaggedTensorValue is deprecated. Please use tf.compat.v1.ragged.RaggedTensorValue instead.\n",
      "\n",
      "WARNING:tensorflow:From c:\\Users\\WilmarAl\\AppData\\Local\\Programs\\Python\\Python310\\lib\\site-packages\\keras\\src\\engine\\base_layer_utils.py:384: The name tf.executing_eagerly_outside_functions is deprecated. Please use tf.compat.v1.executing_eagerly_outside_functions instead.\n",
      "\n",
      "800/800 [==============================] - 62s 69ms/step - loss: 0.2058 - accuracy: 0.9344 - val_loss: 0.1512 - val_accuracy: 0.9459\n",
      "Epoch 2/5\n",
      "800/800 [==============================] - 53s 66ms/step - loss: 0.1083 - accuracy: 0.9613 - val_loss: 0.1417 - val_accuracy: 0.9316\n",
      "Epoch 3/5\n",
      "800/800 [==============================] - 51s 64ms/step - loss: 0.0748 - accuracy: 0.9739 - val_loss: 0.1353 - val_accuracy: 0.9564\n",
      "Epoch 4/5\n",
      "800/800 [==============================] - 38s 48ms/step - loss: 0.0611 - accuracy: 0.9793 - val_loss: 0.1375 - val_accuracy: 0.9576\n",
      "Epoch 5/5\n",
      "800/800 [==============================] - 41s 51ms/step - loss: 0.0529 - accuracy: 0.9824 - val_loss: 0.1484 - val_accuracy: 0.9559\n"
     ]
    },
    {
     "data": {
      "text/plain": [
       "<keras.src.callbacks.History at 0x23a88c99e10>"
      ]
     },
     "execution_count": 10,
     "metadata": {},
     "output_type": "execute_result"
    }
   ],
   "source": [
    "class Attention(Layer):\n",
    "    def __init__(self):\n",
    "        super(Attention, self).__init__()\n",
    "\n",
    "    def call(self, inputs):\n",
    "        score = tf.nn.tanh(inputs)\n",
    "        weights = tf.nn.softmax(score, axis=1)\n",
    "        context = weights * inputs\n",
    "        return tf.reduce_sum(context, axis=1)\n",
    "\n",
    "def build_bilstm_attention(vocab_size=10000, embedding_dim=64, max_length=100):\n",
    "    inputs = Input(shape=(max_length,))\n",
    "    x = Embedding(vocab_size, embedding_dim)(inputs)\n",
    "    x = Bidirectional(LSTM(64, return_sequences=True))(x)\n",
    "    x = Attention()(x)\n",
    "    outputs = Dense(1, activation='sigmoid')(x)\n",
    "    model = Model(inputs, outputs)\n",
    "    return model\n",
    "\n",
    "bilstm_model = build_bilstm_attention()\n",
    "bilstm_model.compile(loss='binary_crossentropy', optimizer='adam', metrics=['accuracy'])\n",
    "bilstm_model.summary()\n",
    "\n",
    "# Entrenamiento\n",
    "bilstm_model.fit(X_train, y_train, epochs=5, validation_data=(X_test, y_test))\n"
   ]
  }
 ],
 "metadata": {
  "kernelspec": {
   "display_name": "Python 3",
   "language": "python",
   "name": "python3"
  },
  "language_info": {
   "codemirror_mode": {
    "name": "ipython",
    "version": 3
   },
   "file_extension": ".py",
   "mimetype": "text/x-python",
   "name": "python",
   "nbconvert_exporter": "python",
   "pygments_lexer": "ipython3",
   "version": "3.10.1"
  }
 },
 "nbformat": 4,
 "nbformat_minor": 5
}
